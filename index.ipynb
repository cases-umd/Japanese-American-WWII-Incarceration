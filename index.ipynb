{
 "cells": [
  {
   "cell_type": "markdown",
   "id": "metropolitan-breed",
   "metadata": {},
   "source": [
    "# A Framework for Unlocking and Linking WWII Japanese American Incarceration Biographical Data\n",
    "## CASE Module\n",
    "\n",
    "- Creators: Lencia Beltran, Emily Ping O'Brien, Greg Jansen, and Richard Marciano\n",
    "- Contributors: \n",
    "- Community Partner: Geoff Froh (Densho.org)\n",
    "    - \"A grassroots organization dedicated to preserving, educating, and sharing the story of World War II-era incarceration of Japanese Americans in order to deepen understandings of American history and inspire action for equity\"\n",
    "- License: Creative Commons - Attribute 4.0 Intl\n",
    "- Related Publications:\n",
    "    - IEEE BigData 2021 Workshop Conference Proceedings: *A Framework for Unlocking and Linking WWII Japanese American Incarceration Biographical Data*\n",
    "- Acknowledgements: Thank you to the Institute of Laura Bush 21st Century Librarian (LB21), National Digital Infrastructures and Initiatives Museum and Library Services (IMLS) LIS Education and Data Science Integrated Network Group (LEADING) project"
   ]
  },
  {
   "cell_type": "markdown",
   "id": "productive-instrument",
   "metadata": {},
   "source": [
    "### Creators' Note\n",
    "The creators of this notebook recognize the records used in this project were created and provided by the US government and therefore do not accurately convey the lives and experiences of the incarcerated Japanese Americans in the WWII US Concentration Camps. We also recognize some information from the federal records might contain personal, sensitive, or damaging information. Our work seeks to respect the privacy of individuals and their families, and approach this time in US history with humility and a willingness to learn."
   ]
  },
  {
   "cell_type": "markdown",
   "id": "designed-fruit",
   "metadata": {},
   "source": [
    "### Notebooks\n",
    "\n",
    "- [Entity Resolution](Entity_Resolution_FAR_to_WRA.ipynb)\n",
    "- [Social Network Analysis](Social_Network_Analysis.ipynb)\n",
    "- [Spatial Networks](MappingRiotNames/Spatial_Visualization.ipynb)"
   ]
  },
  {
   "cell_type": "markdown",
   "id": "meaning-worry",
   "metadata": {},
   "source": [
    "### Introduction\n",
    "\n",
    "Our project explores digital history methods based on Computational Archival Science (CAS) [1] that use large quantities of data for historical research. In methodological terms, we are focusing on aspects of prosopography, which is sometimes defined as “a means of profiling any group of recorded persons linked by any common factor” [2]. One may thus think of prosopography as an investigation of a historical group (or of several interconnected groups) that is linked by some common factor, not focusing on a small number of individual biographies but using significant quantities of source material to carry out a collective study of their lives, looking at patterns of activities and interrelationships.\n",
    "\n",
    "<center> Fig. 1</center>\n",
    "<center><img src=\"usmapcircles.png\" width=\"650\" alt=\"Locations\"></center>\n",
    "<center>*Note.* Map is modeled from Densho's Site of Shame.</center> \n",
    "<br>\n",
    "We are interested in connecting the movements of displaced people inside individual camps and across a larger dizzying and little-known universe of fifty-nine incarceration sites (including Concentration Camps, Temporary Assembly Centers, Immigration Detention Stations, DOJ Internment Camps, U.S. Army Internment Camps, Citizen Isolation Centers, U.S. Federal Prisons, and additional facilities). We seek to identify how incarcerated peoples connected with each other, especially towards individual, small group, and communal acts of resistance, how they moved around surveillance practices, and how their movements were perceived by state authorities. We draw this hidden history of the WWII Japanese-American incarceration from newly released archival sources that, until now, had not been publicly available.\n",
    "<br>\n",
    "<br>\n",
    "<center>Fig. 2</center>\n",
    "<center><img src=\"nasign.jpg\" alt=\"Exclusion Order posted at First and Front Streets in San Francisco, CA directing removal of persons of Japanese ancestry from the first San Francisco section to be effected by the evacuation.\"></center>\n",
    "<center>Exclusion Order Directing Removal of Persons of Japanese Ancestry</center>\n",
    "<center>*Note.* By Records of the War Relocation Authority, photograph, accessed from Docs Teach website, National Archives. [3]</center>\n",
    "<br>\n",
    "<center>Fig. 3</center>\n",
    "<center><img src=\"https://www.archives.gov/files/education/images/internmentwaiting.jpg\" width='500' alt=\"A view of the barracks down one of the streets at the Tule Lake Concentration Camp\"></center>\n",
    "<center> Individuals of Japanese ancestry await a bus at the Wartime Civil Control Administration (WCCA) in San Francisco, California. </center>\n",
    "<center>*Note.* Photograph taken by Dorthea Lange, photograph, accessed from the Records of the War Relocation Authority at the National Archives and Records Administration (NARA) website, at College Park, MD. [4]</center>"
   ]
  },
  {
   "cell_type": "markdown",
   "id": "infinite-isaac",
   "metadata": {},
   "source": [
    "### Tule Lake Concentration Camp\n",
    "\n",
    "At the beginning of this project, we were able complete the manual transcription of the National Archives \"Internal Security Care Reports\" Index Cards from the Tule Lake Concentration Camp. These cards are part of a significant WRA (Record Group 210 from 1941-1947) records series. Transcribing thousands of cards was a momentous accomplishment. Not only does it allow us to examine the data, but it also paves the way for others to use the data for future access and research. The Index Cards, also known as Incident Cards, reference narrative reports prepared by camp investigators, police officers, and directors of internal security, relating cases of alleged “disorderly conduct, rioting, seditious behavior,” etc. at each of the 10 camps, with detailed information on the names and addresses in the camps of the persons involved, the time and place where the alleged incident occurred, an account of what happened, and a statement of action taken by the investigating officer. \n",
    "\n",
    "The Tule Lake Concentration Camp in California \"was one of the ten concentration camps built to imprison Japanese Americans forcibly removed from the West Coast states during World War II. Following the ill-conceived loyalty questionnaire that was administered in early 1943 to the imprisoned population, inmates who refused to give unqualified \"yes\" responses were segregated to Tule Lake and unjustly labeled as 'disloyal'.\" [3] The Tule Lake Concentration Camp held Japanese American incarcerees from 1942 until 1946.\n",
    "\n",
    "<center>Fig. 4</center>\n",
    "<center><img src=\"npstl1.jpg\" alt=\"A view of the barracks down one of the streets at the Tule Lake Concentration Camp\"></center>\n",
    "<center>A view down one of the streets of this relocation center, showing the artistic way in which the evacuees decorate the exterior of their barracks to make them more homelike</center>\n",
    "<center>*Note.* By Francis Leroy Stewart, photograph, accessed from National Park Service website, U.S. Department of the Interior. [6]</center>\n",
    "<br>\n",
    "<center>Fig. 5</center>\n",
    "<center><img src=\"npstl2.jpg\" alt=\"Incarcerated Workers line up for identification tags to receive first pay day\"></center>\n",
    "<center>A line up of evacuee workers waiting for their identification tags which are to be used in conjunction with the first pay day at this War Relocation Authority Center</center>\n",
    "<center>*Note.* By Francis Leroy Stewart, photograph, accessed from National Park Service website, U.S. Department of the Interior. [7]</center>"
   ]
  },
  {
   "cell_type": "markdown",
   "id": "passing-moldova",
   "metadata": {},
   "source": [
    "### Purpose of Framework\n",
    "\n",
    "In this historical moment when there is a heightened attention to misinformation, this project highlights the transformation of information to knowledge. This approach deepens our understanding of the way individuals, as well as groups connected with each other through movement, often towards resistance, in state-controlled environments, and the way knowledge is created. We believe this project could be a model for other narratives of “serial forced displacement” in America, a term that describes the consequences of repetitive, government-policy driven coercive upheaval of groups and includes: segregation, redlining, urban renewal, mass criminalization, disaster displacement, and more recently family separation immigration policy.\n",
    "\n",
    "[Entity Resolution](Entity_Resolution_FAR_to_WRA.ipynb)<br>\n",
    "We describe a framework for unlocking and linking biographical data from WWII Japanese American Incarceration Camps using Entity Resolution and other computational approaches. Entity Resolution (ER) is increasingly being used to identify and link names across archival collections. One of the principal challenges with the analysis of the Japanese-American internee data is that there is not a unified registry or any consistently applied unique identifiers for the people who were subjected to incarceration and forced migration. Establishing a unified registry of individuals and their families will enable further discrete links to archival context, such as events, incident reports, news stories, and internal and external camp locations.\n",
    "\n",
    "[Social Network Analysis](Social_Network_Analysis.ipynb)<br>\n",
    "The disambiguation of named entities and a unified registry of individuals allows us to use computational methods to share biographical stories and bring new clarity to events. Keeping computational prosopography in mind, we examine relationships between internees and events at the Tule Lake Concentration Camp using social network analysis. We demonstrate the construction of social graphs that link people, places, and events and which support further scholarship and reveal hidden stories in historical events, especially given contested archival sources. \n",
    "\n",
    "[Spatial Networks](MappingRiotNames/Spatial_Visualization.ipynb)<br>\n",
    "Finally, we show how computational visualizations are applied to support the understanding of Japanese American experiences and events at the Tule Lake Concentration Camp. Through spatial analysis, we can answer the where questions and model new information and relationships. The spatial data allows us to link space and time to specific individuals and events to discover how and where groups connected, where events occurred, and ultimately to learn how Japanese Americans were treated. \n",
    "\n",
    "The picture that emerges by processing these records from the inside out by extracting the information content, and creating models of people and events across space and time, allows us to unlock a more complete story of what happened in the Japanese American Concentration Camps."
   ]
  },
  {
   "cell_type": "markdown",
   "id": "official-peninsula",
   "metadata": {},
   "source": [
    "### Community Stakeholders\n",
    "\n",
    "Ethical considerations regarding the release of sensitive data is a priority and at the forefront of our minds. We are fortunate to collaborate and partner with [Densho](https://densho.org), a nonprofit organization devoted to sharing the stories of incarcerated Japanese Americans. Listening to the community and welcoming input and feedback from stakeholders is important to the success of our work. In collaboration with Densho and members of the Japanese American community, we strive to develop a framework or best practice on the analysis of culturally sensitive collections. \n",
    " "
   ]
  },
  {
   "cell_type": "markdown",
   "id": "caroline-stations",
   "metadata": {},
   "source": [
    "### Application and Practices\n",
    "\n",
    "#### Archival Practices\n",
    "- Review of records for sensitive information restricted from release to the public\n",
    "- Completed transcription of National Archives “Internal Security Case Reports” Index Cards\n",
    "- Creation and normalization of metadata from transcribed Index Cards\n",
    "- Analysis of biographic, geographic, and event data from archival records\n",
    "\n",
    "#### Ethical Considerations\n",
    "- Personally identifiable information (PII)\n",
    "- Biased perspectives in archival records\n",
    "- False accusations in Index Cards\n",
    "\n",
    "#### Computational Thinking Practices\n",
    "- Data Practices\n",
    "    - Creating Data\n",
    "    - Manipulating Data\n",
    "    - Analyzing Data\n",
    "    - Visualizing Data\n",
    "- Modeling & Simulation Practices\n",
    "    - Designing Computational Models\n",
    "    - Constructing Computational Models\n",
    "- Computational Problem Solving Practices\n",
    "    - Computer Programming\n",
    "    - Developing Modular Computational Solutions"
   ]
  },
  {
   "cell_type": "markdown",
   "id": "social-ceremony",
   "metadata": {},
   "source": [
    "### Software and Tools\n",
    "\n",
    "- [Python 3](https://www.python.org/download/releases/3.0/)\n",
    "- [Jupyter Notebook](https://jupyter.org)\n",
    "- [Pandas](https://pandas.pydata.org)\n",
    "- [Matplotlib](https://matplotlib.org)\n",
    "- [NetworkX](https://networkx.org)\n",
    "- [Plotly Express](https://plotly.com)\n",
    "- [Folium](https://python-visualization.github.io/folium/)"
   ]
  },
  {
   "cell_type": "markdown",
   "id": "useful-prospect",
   "metadata": {},
   "source": [
    "### Acquiring and Accessing Data\n",
    "\n",
    "The data for this project was originally acquired from National Archives and Records Administration (NARA) collections and screened to remove records related to those who were minors at the time. The data also includes two datasets that are person registries. One is the \"FAR Registry\" and the other is the \"WRA Form 26 Register\". WRA is the War Relocation Authority. All data sources are included in this module as comma-separated values files. The links below will take you to a view of each data file:\n",
    "\n",
    "- Link FAR \n",
    "- Link WRA"
   ]
  },
  {
   "cell_type": "markdown",
   "id": "solar-assets",
   "metadata": {},
   "source": [
    "### References\n",
    "\n",
    "[1] R. Marciano, V. Lemieux, M. Hedges, M. Esteva, W. Underwood, M. Kurtz, and M. Conrad (2018). Archival Records and Training in the Age of Big Data, in Re-Envisioning the MLS: Perspectives on the Future of Library and Information Science Education (Advances in Librarianship, Volume 44B, pp.179-199) . Eds: J. Percell, L. C. Sarin, P. T. Jaeger, J. C. Bertot. Emerald Publishing Limited. See: https://ai-collaboratory.net/wp-content/uploads/2020/10/Marciano-et-al-Archival-Records-and-Training-in-the-Age-of-Big-Data-final.pdf\n",
    "\n",
    "[2] P. Magdalino, “Prosopography and Byzantine Identity”, Fifty Years of Prosopography, p. 41-56.\n",
    "\n",
    "[3]  Records of the War Relocation Authority (1942). *Exclusion Order posted at First and Front Streets*. [Photograph]. National Archives at College Park, College Park, MD. https://www.docsteach.org/documents/document/exclusion-order\n",
    "\n",
    "[4] Photograph 210-G-A92; San Francisco, California. With baggage stacked, residents of Japanese ancestry await bus at Wartime. . .; 4/6/1942; Central Photographic File of the War Relocation Authority, 1942 - 1945; Records of the War Relocation Authority, Record Group 210; National Archives at College Park, College Park, MD. [Online Version, https://www.docsteach.org/documents/document/await-bus-with-baggage, November 20, 2021]\n",
    "\n",
    "[5] B. Takei, “Tule Lake,” Densho Encyclopedia, October, 2020. [Online]. Available: https://encyclopedia.densho.org/Tule_Lake/ [Accessed: Nov. 14, 2021]\n",
    "\n",
    "[6] Stewart, F.L. (n.d.). *A view down one of the streets of this relocation center, showing the artistic way in which the evacuees decorate the exterior of their barracks to make them more homelike*. National Park Service, U.S. Department of the Interior, United States. https://www.nps.gov/media/photo/gallery-item.htm?pg=278254&id=7092a45f-9e32-4a08-9408-366dc93b2436&gid=D4B6576B-8A37-464D-8438-8508F4BA00B6\n",
    "\n",
    "[7] Stewart, F.L. (n.d.). *A line up of evacuee workers waiting for their identification tags which are to be used in conjunction with the first pay day at this War Relocation Authority Center.* National Park Service, U.S. Department of the Interior, United States. https://www.nps.gov/media/photo/gallery-item.htm?pg=278254&id=44fa1dda-9504-48d0-ab67-0ce3196966c8&gid=041492ED-45F7-47D7-A82C-8908E7995B46"
   ]
  }
 ],
 "metadata": {
  "kernelspec": {
   "display_name": "Python 3",
   "language": "python",
   "name": "python3"
  },
  "language_info": {
   "codemirror_mode": {
    "name": "ipython",
    "version": 3
   },
   "file_extension": ".py",
   "mimetype": "text/x-python",
   "name": "python",
   "nbconvert_exporter": "python",
   "pygments_lexer": "ipython3",
   "version": "3.8.6"
  }
 },
 "nbformat": 4,
 "nbformat_minor": 5
}
